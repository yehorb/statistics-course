{
 "cells": [
  {
   "cell_type": "code",
   "execution_count": 1,
   "metadata": {},
   "outputs": [],
   "source": [
    "%matplotlib inline"
   ]
  },
  {
   "cell_type": "code",
   "execution_count": 2,
   "metadata": {},
   "outputs": [],
   "source": [
    "import numpy as np\n",
    "import scipy.stats as sts\n",
    "import matplotlib.pyplot as plt\n",
    "import seaborn as sns\n",
    "\n",
    "sns.set()"
   ]
  },
  {
   "cell_type": "code",
   "execution_count": 3,
   "metadata": {},
   "outputs": [
    {
     "data": {
      "text/plain": [
       "Power_divergenceResult(statistic=0.54, pvalue=0.7633794943368533)"
      ]
     },
     "execution_count": 3,
     "metadata": {},
     "output_type": "execute_result"
    }
   ],
   "source": [
    "n = 100\n",
    "actual = np.array([22, 53, 25])\n",
    "# prob_m = (actual * [2, 1, 0] / (n * 2)).sum()\n",
    "prob_m = 0.5\n",
    "prob_i = np.array([prob_m * prob_m, 2 * prob_m * (1 - prob_m), (1 - prob_m) * (1 - prob_m)])\n",
    "expect = prob_i * n\n",
    "# chi2_c = ((actual - expect) ** 2 / expect).sum()\n",
    "sts.chisquare(actual, expect)"
   ]
  },
  {
   "cell_type": "code",
   "execution_count": 4,
   "metadata": {},
   "outputs": [
    {
     "data": {
      "text/plain": [
       "Power_divergenceResult(statistic=9.189136689774069, pvalue=0.0024345568963482717)"
      ]
     },
     "execution_count": 4,
     "metadata": {},
     "output_type": "execute_result"
    }
   ],
   "source": [
    "n = 100\n",
    "actual = np.array([22, 33, 45])\n",
    "prob_m = (actual * [2, 1, 0] / (n * 2)).sum()\n",
    "prob_i = np.array([prob_m * prob_m, 2 * prob_m * (1 - prob_m), (1 - prob_m) * (1 - prob_m)])\n",
    "expect = prob_i * n\n",
    "# chi2_c = ((actual - expect) ** 2 / expect).sum()\n",
    "# в сложной теореме уменьшаем количество степеней свободы. в даном случае остается только prob_m как независимая величина\n",
    "# потому оставляем ddof = 1 (dof = k - 1 - ddof)\n",
    "sts.chisquare(actual, expect, ddof=1)"
   ]
  },
  {
   "cell_type": "code",
   "execution_count": 5,
   "metadata": {},
   "outputs": [
    {
     "data": {
      "text/plain": [
       "Power_divergenceResult(statistic=7.9399999999999995, pvalue=0.004835383460771927)"
      ]
     },
     "execution_count": 5,
     "metadata": {},
     "output_type": "execute_result"
    }
   ],
   "source": [
    "# no expect -- tests for discrete uniform dist\n",
    "sts.chisquare(actual, ddof=1)"
   ]
  },
  {
   "cell_type": "code",
   "execution_count": 6,
   "metadata": {},
   "outputs": [
    {
     "data": {
      "text/plain": [
       "0.010106582397520603"
      ]
     },
     "execution_count": 6,
     "metadata": {},
     "output_type": "execute_result"
    }
   ],
   "source": [
    "1 - sts.chi2.cdf(9.189136689774069, 2)"
   ]
  },
  {
   "cell_type": "code",
   "execution_count": 7,
   "metadata": {},
   "outputs": [
    {
     "data": {
      "text/plain": [
       "array([ 1.68475159e+00, -1.08243213e-01, -9.70016050e-01,  1.32427652e+00,\n",
       "        2.18787812e+00, -3.94110177e-01,  8.39838535e-01,  2.16623759e+00,\n",
       "       -1.09762386e+00,  4.25611984e-01,  7.07308412e-01,  4.22511808e-01,\n",
       "       -2.00900041e+00, -4.68687537e-01,  9.67863039e-01, -6.74636706e-01,\n",
       "        2.13552282e+00, -2.49988293e-01,  2.02206466e+00,  1.67546546e+00,\n",
       "        2.19848463e-01,  1.01072902e+00, -8.79172963e-01, -1.04014391e+00,\n",
       "       -1.89340065e-01,  1.43080044e+00,  5.98957181e-01, -1.04145009e+00,\n",
       "        1.26756385e-01,  1.76606309e+00,  1.47404951e+00,  5.91672184e-01,\n",
       "        2.55627090e-01, -5.47298538e-01,  4.96733053e-01,  1.64418406e+00,\n",
       "        4.48034454e-02, -8.88066798e-01, -1.68806081e+00, -1.49846668e+00,\n",
       "        1.88474540e+00, -3.27058484e-01, -8.69953043e-01, -7.85770739e-01,\n",
       "        2.74836808e-01,  6.68929769e-01, -2.81678372e-01,  3.40825510e-03,\n",
       "       -7.69490828e-01,  9.03263288e-01, -7.45043451e-01,  4.71549852e-01,\n",
       "        9.53460969e-01, -4.20368281e-02, -3.38620853e-02, -4.38403499e-01,\n",
       "        1.49439852e+00, -1.08150271e+00, -1.44101324e-01, -4.44285520e-01,\n",
       "        1.73122020e+00, -1.97104407e-01, -9.18234419e-01, -1.00727723e+00,\n",
       "       -6.80746053e-01,  3.83564309e-01, -4.44628196e-01,  1.44118862e+00,\n",
       "        8.84998311e-01, -1.51923699e+00, -1.22548297e+00, -2.32436694e-01,\n",
       "       -1.45876038e-01, -5.72865998e-01,  6.69392771e-01,  1.25656139e+00,\n",
       "       -2.48741568e-01, -5.38067786e-01,  1.34989013e-04,  6.44785755e-01,\n",
       "        1.88643893e-02,  1.19553144e+00,  3.59784857e-01,  4.49725110e-01,\n",
       "       -6.61505131e-01, -1.17249717e+00,  1.94774669e+00,  8.11368270e-01,\n",
       "        1.86159470e+00, -1.30435889e+00,  6.10983296e-01, -1.91003906e+00,\n",
       "        6.13659341e-01, -8.08899008e-01,  3.05705071e-01,  4.51082431e-01,\n",
       "        6.18780641e-01,  7.06458384e-01,  1.69397312e+00, -1.96475543e+00])"
      ]
     },
     "execution_count": 7,
     "metadata": {},
     "output_type": "execute_result"
    }
   ],
   "source": [
    "observed = sts.norm.rvs(0, 1, 100)\n",
    "observed"
   ]
  },
  {
   "cell_type": "code",
   "execution_count": 8,
   "metadata": {},
   "outputs": [
    {
     "name": "stderr",
     "output_type": "stream",
     "text": [
      "C:\\dev\\Anaconda3\\lib\\site-packages\\matplotlib\\axes\\_axes.py:6462: UserWarning: The 'normed' kwarg is deprecated, and has been replaced by the 'density' kwarg.\n",
      "  warnings.warn(\"The 'normed' kwarg is deprecated, and has been \"\n"
     ]
    },
    {
     "data": {
      "text/plain": [
       "<matplotlib.axes._subplots.AxesSubplot at 0x1f3e88bce80>"
      ]
     },
     "execution_count": 8,
     "metadata": {},
     "output_type": "execute_result"
    },
    {
     "data": {
      "image/png": "[encoded data removed]",
      "text/plain": [
       "<Figure size 432x288 with 1 Axes>"
      ]
     },
     "metadata": {},
     "output_type": "display_data"
    }
   ],
   "source": [
    "bins = np.histogram(observed, bins='auto')\n",
    "sns.distplot(observed, bins=bins[1], kde=False)"
   ]
  },
  {
   "cell_type": "code",
   "execution_count": 9,
   "metadata": {},
   "outputs": [
    {
     "data": {
      "text/plain": [
       "(array([ 6,  9, 18, 17, 17, 13,  8, 12], dtype=int64),\n",
       " array([-2.00900041, -1.4843906 , -0.95978078, -0.43517096,  0.08943885,\n",
       "         0.61404867,  1.13865849,  1.6632683 ,  2.18787812]))"
      ]
     },
     "execution_count": 9,
     "metadata": {},
     "output_type": "execute_result"
    }
   ],
   "source": [
    "bins"
   ]
  },
  {
   "cell_type": "code",
   "execution_count": 10,
   "metadata": {},
   "outputs": [
    {
     "data": {
      "text/plain": [
       "[-inf,\n",
       " -1.4843905957438903,\n",
       " -0.9597807789676422,\n",
       " -0.4351709621913942,\n",
       " 0.0894388545848539,\n",
       " 0.6140486713611022,\n",
       " 1.13865848813735,\n",
       " 1.663268304913598,\n",
       " inf]"
      ]
     },
     "execution_count": 10,
     "metadata": {},
     "output_type": "execute_result"
    }
   ],
   "source": [
    "prob_bins = list(bins[1])\n",
    "prob_bins[0] = -np.inf\n",
    "prob_bins[-1] = np.inf\n",
    "prob_bins"
   ]
  },
  {
   "cell_type": "code",
   "execution_count": 11,
   "metadata": {},
   "outputs": [
    {
     "data": {
      "text/plain": [
       "array([0.06885266, 0.09973011, 0.16313639, 0.20391426, 0.19477499,\n",
       "       0.14216877, 0.07929344, 0.04812937])"
      ]
     },
     "execution_count": 11,
     "metadata": {},
     "output_type": "execute_result"
    }
   ],
   "source": [
    "# для сложных гипотез заменить (0, 1) параметрами получеными из выборки (не _.std())\n",
    "func = sts.norm(0, 1).cdf\n",
    "prob_1 = func(prob_bins[:-1])\n",
    "prob_2 = func(prob_bins[1:])\n",
    "prob = prob_2 - prob_1\n",
    "prob"
   ]
  },
  {
   "cell_type": "code",
   "execution_count": 12,
   "metadata": {},
   "outputs": [
    {
     "data": {
      "text/plain": [
       "array([ 6.88526641,  9.97301149, 16.31363901, 20.39142581, 19.47749903,\n",
       "       14.21687709,  7.92934415,  4.81293701])"
      ]
     },
     "execution_count": 12,
     "metadata": {},
     "output_type": "execute_result"
    }
   ],
   "source": [
    "expected = prob * observed.size\n",
    "expected"
   ]
  },
  {
   "cell_type": "code",
   "execution_count": 13,
   "metadata": {},
   "outputs": [
    {
     "data": {
      "text/plain": [
       "Power_divergenceResult(statistic=12.099341843097354, pvalue=0.09733892392492319)"
      ]
     },
     "execution_count": 13,
     "metadata": {},
     "output_type": "execute_result"
    }
   ],
   "source": [
    "# соответственно здесь уменьшаем количество степеней свободы на 2 (ddof=2)\n",
    "assert bins[0].size == expected.size\n",
    "sts.chisquare(bins[0], expected)"
   ]
  }
 ],
 "metadata": {
  "kernelspec": {
   "display_name": "Python 3",
   "language": "python",
   "name": "python3"
  },
  "language_info": {
   "codemirror_mode": {
    "name": "ipython",
    "version": 3
   },
   "file_extension": ".py",
   "mimetype": "text/x-python",
   "name": "python",
   "nbconvert_exporter": "python",
   "pygments_lexer": "ipython3",
   "version": "3.6.5"
  }
 },
 "nbformat": 4,
 "nbformat_minor": 2
}
