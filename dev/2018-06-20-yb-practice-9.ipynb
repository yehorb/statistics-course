{
 "cells": [
  {
   "cell_type": "code",
   "execution_count": 1,
   "metadata": {},
   "outputs": [],
   "source": [
    "%matplotlib inline"
   ]
  },
  {
   "cell_type": "code",
   "execution_count": 34,
   "metadata": {},
   "outputs": [],
   "source": [
    "import numpy as np\n",
    "import pandas as pd\n",
    "import scipy.stats as sts\n",
    "import statsmodels.formula.api as sm\n",
    "import matplotlib.pyplot as plt\n",
    "import seaborn as sns\n",
    "\n",
    "sns.set()\n",
    "sns.set_style('whitegrid')"
   ]
  },
  {
   "cell_type": "code",
   "execution_count": 3,
   "metadata": {},
   "outputs": [],
   "source": [
    "x1 = np.random.normal(0,1,20)\n",
    "x2 = np.random.normal(0,3,20)\n",
    "y = 3 + 2*x1 - x2 + np.random.normal(0,0.5,20)"
   ]
  },
  {
   "cell_type": "code",
   "execution_count": 4,
   "metadata": {},
   "outputs": [],
   "source": [
    "z = sm.ols(formula ='y ~ x1 + x2', data=pd.DataFrame({'y':y,'x1':x1,'x2':x2}))\n",
    "z_fit = z.fit()"
   ]
  },
  {
   "cell_type": "code",
   "execution_count": 23,
   "metadata": {},
   "outputs": [
    {
     "data": {
      "text/html": [
       "<table class=\"simpletable\">\n",
       "<caption>OLS Regression Results</caption>\n",
       "<tr>\n",
       "  <th>Dep. Variable:</th>            <td>y</td>        <th>  R-squared:         </th> <td>   0.983</td>\n",
       "</tr>\n",
       "<tr>\n",
       "  <th>Model:</th>                   <td>OLS</td>       <th>  Adj. R-squared:    </th> <td>   0.981</td>\n",
       "</tr>\n",
       "<tr>\n",
       "  <th>Method:</th>             <td>Least Squares</td>  <th>  F-statistic:       </th> <td>   493.0</td>\n",
       "</tr>\n",
       "<tr>\n",
       "  <th>Date:</th>             <td>Wed, 20 Jun 2018</td> <th>  Prob (F-statistic):</th> <td>8.87e-16</td>\n",
       "</tr>\n",
       "<tr>\n",
       "  <th>Time:</th>                 <td>11:50:29</td>     <th>  Log-Likelihood:    </th> <td> -11.384</td>\n",
       "</tr>\n",
       "<tr>\n",
       "  <th>No. Observations:</th>      <td>    20</td>      <th>  AIC:               </th> <td>   28.77</td>\n",
       "</tr>\n",
       "<tr>\n",
       "  <th>Df Residuals:</th>          <td>    17</td>      <th>  BIC:               </th> <td>   31.76</td>\n",
       "</tr>\n",
       "<tr>\n",
       "  <th>Df Model:</th>              <td>     2</td>      <th>                     </th>     <td> </td>   \n",
       "</tr>\n",
       "<tr>\n",
       "  <th>Covariance Type:</th>      <td>nonrobust</td>    <th>                     </th>     <td> </td>   \n",
       "</tr>\n",
       "</table>\n",
       "<table class=\"simpletable\">\n",
       "<tr>\n",
       "      <td></td>         <th>coef</th>     <th>std err</th>      <th>t</th>      <th>P>|t|</th>  <th>[0.025</th>    <th>0.975]</th>  \n",
       "</tr>\n",
       "<tr>\n",
       "  <th>Intercept</th> <td>    3.0150</td> <td>    0.106</td> <td>   28.547</td> <td> 0.000</td> <td>    2.792</td> <td>    3.238</td>\n",
       "</tr>\n",
       "<tr>\n",
       "  <th>x1</th>        <td>    2.1556</td> <td>    0.131</td> <td>   16.472</td> <td> 0.000</td> <td>    1.880</td> <td>    2.432</td>\n",
       "</tr>\n",
       "<tr>\n",
       "  <th>x2</th>        <td>   -1.0016</td> <td>    0.039</td> <td>  -25.964</td> <td> 0.000</td> <td>   -1.083</td> <td>   -0.920</td>\n",
       "</tr>\n",
       "</table>\n",
       "<table class=\"simpletable\">\n",
       "<tr>\n",
       "  <th>Omnibus:</th>       <td> 1.703</td> <th>  Durbin-Watson:     </th> <td>   2.114</td>\n",
       "</tr>\n",
       "<tr>\n",
       "  <th>Prob(Omnibus):</th> <td> 0.427</td> <th>  Jarque-Bera (JB):  </th> <td>   1.079</td>\n",
       "</tr>\n",
       "<tr>\n",
       "  <th>Skew:</th>          <td> 0.248</td> <th>  Prob(JB):          </th> <td>   0.583</td>\n",
       "</tr>\n",
       "<tr>\n",
       "  <th>Kurtosis:</th>      <td> 1.976</td> <th>  Cond. No.          </th> <td>    3.48</td>\n",
       "</tr>\n",
       "</table><br/><br/>Warnings:<br/>[1] Standard Errors assume that the covariance matrix of the errors is correctly specified."
      ],
      "text/plain": [
       "<class 'statsmodels.iolib.summary.Summary'>\n",
       "\"\"\"\n",
       "                            OLS Regression Results                            \n",
       "==============================================================================\n",
       "Dep. Variable:                      y   R-squared:                       0.983\n",
       "Model:                            OLS   Adj. R-squared:                  0.981\n",
       "Method:                 Least Squares   F-statistic:                     493.0\n",
       "Date:                Wed, 20 Jun 2018   Prob (F-statistic):           8.87e-16\n",
       "Time:                        11:50:29   Log-Likelihood:                -11.384\n",
       "No. Observations:                  20   AIC:                             28.77\n",
       "Df Residuals:                      17   BIC:                             31.76\n",
       "Df Model:                           2                                         \n",
       "Covariance Type:            nonrobust                                         \n",
       "==============================================================================\n",
       "                 coef    std err          t      P>|t|      [0.025      0.975]\n",
       "------------------------------------------------------------------------------\n",
       "Intercept      3.0150      0.106     28.547      0.000       2.792       3.238\n",
       "x1             2.1556      0.131     16.472      0.000       1.880       2.432\n",
       "x2            -1.0016      0.039    -25.964      0.000      -1.083      -0.920\n",
       "==============================================================================\n",
       "Omnibus:                        1.703   Durbin-Watson:                   2.114\n",
       "Prob(Omnibus):                  0.427   Jarque-Bera (JB):                1.079\n",
       "Skew:                           0.248   Prob(JB):                        0.583\n",
       "Kurtosis:                       1.976   Cond. No.                         3.48\n",
       "==============================================================================\n",
       "\n",
       "Warnings:\n",
       "[1] Standard Errors assume that the covariance matrix of the errors is correctly specified.\n",
       "\"\"\""
      ]
     },
     "execution_count": 23,
     "metadata": {},
     "output_type": "execute_result"
    }
   ],
   "source": [
    "z_fit.summary()"
   ]
  },
  {
   "cell_type": "code",
   "execution_count": 38,
   "metadata": {},
   "outputs": [
    {
     "data": {
      "text/plain": [
       "x1    3\n",
       "x2    1\n",
       "dtype: int64"
      ]
     },
     "execution_count": 38,
     "metadata": {},
     "output_type": "execute_result"
    }
   ],
   "source": [
    "pd.Series([3, 1], index=['x1', 'x2'])"
   ]
  },
  {
   "cell_type": "code",
   "execution_count": 49,
   "metadata": {},
   "outputs": [
    {
     "data": {
      "text/plain": [
       "0    21.566643\n",
       "dtype: float64"
      ]
     },
     "execution_count": 49,
     "metadata": {},
     "output_type": "execute_result"
    }
   ],
   "source": [
    "# z_fit.predict(pd.Series([3, 1], index=['x1', 'x2']))\n",
    "z_fit.predict({'x1': [10], 'x2': [3]})"
   ]
  },
  {
   "cell_type": "code",
   "execution_count": 45,
   "metadata": {},
   "outputs": [
    {
     "data": {
      "text/plain": [
       "array([[ 0.30736375,  2.10162889,  1.        ],\n",
       "       [-0.30843567,  3.27634025,  1.        ],\n",
       "       [ 0.13661763, -1.11084218,  1.        ],\n",
       "       [ 0.85296668, -0.55690971,  1.        ],\n",
       "       [-0.95207813, -1.90118649,  1.        ],\n",
       "       [-1.13269776,  2.0359661 ,  1.        ],\n",
       "       [-0.97782019,  0.34821934,  1.        ],\n",
       "       [ 0.44625031, -2.8591    ,  1.        ],\n",
       "       [ 0.39803122, -2.01911035,  1.        ],\n",
       "       [-0.0303331 , -0.83032282,  1.        ],\n",
       "       [ 0.31483781,  1.58556381,  1.        ],\n",
       "       [ 1.08873124, -5.15571046,  1.        ],\n",
       "       [ 1.71163499,  4.28308472,  1.        ],\n",
       "       [ 0.67536696,  1.83808119,  1.        ],\n",
       "       [ 1.20326321, -4.91069807,  1.        ],\n",
       "       [-0.10318417,  0.12015014,  1.        ],\n",
       "       [-0.13794204,  3.27491294,  1.        ],\n",
       "       [ 0.26555878, -3.62060761,  1.        ],\n",
       "       [-0.58826261, -1.21799877,  1.        ],\n",
       "       [-1.32199543, -3.2715518 ,  1.        ]])"
      ]
     },
     "execution_count": 45,
     "metadata": {},
     "output_type": "execute_result"
    }
   ],
   "source": [
    "xast = np.array([10, 3, 1])\n",
    "B = pd.DataFrame({'y':y,'x1':x1,'x2':x2})[['x1', 'x2']]\n",
    "B['intercept'] = 1\n",
    "B.values"
   ]
  },
  {
   "cell_type": "code",
   "execution_count": 48,
   "metadata": {},
   "outputs": [
    {
     "data": {
      "text/plain": [
       "9.021319341410816"
      ]
     },
     "execution_count": 48,
     "metadata": {},
     "output_type": "execute_result"
    }
   ],
   "source": [
    "d = 1 + xast.dot(np.linalg.inv(B.T.dot(B))).dot(xast.T)\n",
    "d"
   ]
  }
 ],
 "metadata": {
  "kernelspec": {
   "display_name": "Python 3",
   "language": "python",
   "name": "python3"
  },
  "language_info": {
   "codemirror_mode": {
    "name": "ipython",
    "version": 3
   },
   "file_extension": ".py",
   "mimetype": "text/x-python",
   "name": "python",
   "nbconvert_exporter": "python",
   "pygments_lexer": "ipython3",
   "version": "3.6.5"
  }
 },
 "nbformat": 4,
 "nbformat_minor": 2
}
