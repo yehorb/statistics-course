{
 "cells": [
  {
   "cell_type": "code",
   "execution_count": 1,
   "metadata": {},
   "outputs": [],
   "source": [
    "%matplotlib notebook"
   ]
  },
  {
   "cell_type": "code",
   "execution_count": 2,
   "metadata": {},
   "outputs": [],
   "source": [
    "import numpy as np\n",
    "import scipy.stats as sts\n",
    "import matplotlib.pyplot as plt\n",
    "import seaborn as sns\n",
    "import warnings; warnings.simplefilter('ignore')\n",
    "\n",
    "sns.set(rc={'figure.figsize':(8,6)})\n",
    "sns.set_style('whitegrid')"
   ]
  },
  {
   "cell_type": "code",
   "execution_count": 40,
   "metadata": {},
   "outputs": [
    {
     "data": {
      "text/plain": [
       "array([[-3.49799781,  1.92095534,  2.52961199, ..., -6.18268865,\n",
       "        -2.43858102, -6.10967928],\n",
       "       [ 7.31694175, -2.06165958,  4.77976223, ...,  0.59336581,\n",
       "        -2.16583056,  3.88756001],\n",
       "       [ 0.72644906,  0.383577  , -5.76944969, ...,  8.52110528,\n",
       "        -5.86086825,  4.45317194],\n",
       "       ...,\n",
       "       [-1.6238433 , -2.84320705, -2.74620644, ..., -3.69549916,\n",
       "        -2.22396654, -1.98681981],\n",
       "       [ 4.88577844, -5.05615927,  4.59792058, ...,  8.37364695,\n",
       "         1.27321017, -1.36465581],\n",
       "       [-3.69328843, -3.79684617,  4.14743919, ...,  3.02937718,\n",
       "         1.32064269, -3.2234341 ]])"
      ]
     },
     "execution_count": 40,
     "metadata": {},
     "output_type": "execute_result"
    }
   ],
   "source": [
    "x = sts.norm.rvs(0, 4, (1000, 10))\n",
    "x"
   ]
  },
  {
   "cell_type": "markdown",
   "metadata": {},
   "source": [
    "$$\n",
    "\\begin{align}\n",
    "H_0: \\mu & = 3 \\\\\n",
    "H_1: \\mu & \\neq 3\n",
    "\\end{align}\n",
    "$$"
   ]
  },
  {
   "cell_type": "code",
   "execution_count": 4,
   "metadata": {},
   "outputs": [
    {
     "data": {
      "text/plain": [
       "1.959963984540054"
      ]
     },
     "execution_count": 4,
     "metadata": {},
     "output_type": "execute_result"
    }
   ],
   "source": [
    "a = 0.05\n",
    "z = sts.norm.ppf(1 - a/2)\n",
    "z"
   ]
  },
  {
   "cell_type": "markdown",
   "metadata": {},
   "source": [
    "$$\n",
    "T(\\chi) = \\frac{\\sqrt{n} \\; |\\hat \\mu - \\mu|}{\\sigma}\n",
    "$$"
   ]
  },
  {
   "cell_type": "code",
   "execution_count": 5,
   "metadata": {},
   "outputs": [],
   "source": [
    "t_test = lambda mu_, sigma, x: np.sqrt(x.size) * np.abs(x.mean() - mu_) / sigma"
   ]
  },
  {
   "cell_type": "code",
   "execution_count": 6,
   "metadata": {},
   "outputs": [
    {
     "data": {
      "text/plain": [
       "57"
      ]
     },
     "execution_count": 6,
     "metadata": {},
     "output_type": "execute_result"
    }
   ],
   "source": [
    "trues = np.fromiter(map(lambda arr: t_test(0, 4, arr) > z, x), dtype=np.bool)\n",
    "trues.sum()"
   ]
  },
  {
   "cell_type": "markdown",
   "metadata": {},
   "source": [
    "$$\n",
    "T(\\chi) = \\frac{\\sqrt{n} \\; |\\hat \\mu - \\mu|}{\\sigma}\n",
    "$$\n",
    "With $\\sigma$ unknown, we calculate it from observed distribution and use T dist for tests."
   ]
  },
  {
   "cell_type": "code",
   "execution_count": 44,
   "metadata": {},
   "outputs": [
    {
     "data": {
      "text/plain": [
       "array([[ 7.11721351,  8.07572127, 11.37187244, ...,  3.05327672,\n",
       "        13.46298424, 20.95286023],\n",
       "       [17.51722756, 13.36723606, 10.84343301, ..., 17.31055147,\n",
       "         6.85038263,  6.81416207],\n",
       "       [ 7.5960643 ,  7.53790047,  5.3099381 , ...,  7.6573337 ,\n",
       "         8.42487546,  4.08988406],\n",
       "       ...,\n",
       "       [11.1663023 ,  8.87217729, 10.44209794, ..., 13.43993404,\n",
       "         7.74903414,  6.38419435],\n",
       "       [10.96809891, 14.80316939, 12.41290937, ..., 12.31965448,\n",
       "         6.62756731, 11.07020429],\n",
       "       [ 9.48929237,  5.05806178, 14.59268963, ..., 10.3599515 ,\n",
       "        12.50169905, 12.17816975]])"
      ]
     },
     "execution_count": 44,
     "metadata": {},
     "output_type": "execute_result"
    }
   ],
   "source": [
    "x_ = sts.chi2.rvs(10, size=(1000, 100))\n",
    "x_"
   ]
  },
  {
   "cell_type": "code",
   "execution_count": 24,
   "metadata": {},
   "outputs": [
    {
     "data": {
      "text/plain": [
       "1.9842169515086827"
      ]
     },
     "execution_count": 24,
     "metadata": {},
     "output_type": "execute_result"
    }
   ],
   "source": [
    "z_test = lambda x:  sts.t.ppf(1 - a/2, x.size - 1)\n",
    "z_test(x_[0])"
   ]
  },
  {
   "cell_type": "code",
   "execution_count": 25,
   "metadata": {},
   "outputs": [],
   "source": [
    "t_test_ = lambda mu_, x: np.sqrt(x.size) * np.abs(x.mean() - mu_) / x.std()"
   ]
  },
  {
   "cell_type": "code",
   "execution_count": 26,
   "metadata": {},
   "outputs": [
    {
     "data": {
      "text/plain": [
       "'h1'"
      ]
     },
     "execution_count": 26,
     "metadata": {},
     "output_type": "execute_result"
    }
   ],
   "source": [
    "arr = x_[75]\n",
    "txt = 'h0' if t_test_(10, arr) > z_test(arr) else 'h1'\n",
    "txt"
   ]
  },
  {
   "cell_type": "code",
   "execution_count": 31,
   "metadata": {},
   "outputs": [
    {
     "data": {
      "text/plain": [
       "3"
      ]
     },
     "execution_count": 31,
     "metadata": {},
     "output_type": "execute_result"
    }
   ],
   "source": [
    "trues_ = np.fromiter(map(lambda arr: t_test_(10, arr) < z_test(arr), x_), dtype=np.bool)\n",
    "trues_.sum()"
   ]
  },
  {
   "cell_type": "code",
   "execution_count": 34,
   "metadata": {},
   "outputs": [],
   "source": [
    "pdf = lambda x: sts.chi2.pdf(x, 10)"
   ]
  },
  {
   "cell_type": "code",
   "execution_count": 51,
   "metadata": {},
   "outputs": [
    {
     "data": {
      "text/plain": [
       "KstestResult(statistic=0.4926274734880074, pvalue=0.00920237867364504)"
      ]
     },
     "execution_count": 51,
     "metadata": {},
     "output_type": "execute_result"
    }
   ],
   "source": [
    "a = sts.kstest(x[0], 'norm')\n",
    "a"
   ]
  }
 ],
 "metadata": {
  "kernelspec": {
   "display_name": "Python 3",
   "language": "python",
   "name": "python3"
  },
  "language_info": {
   "codemirror_mode": {
    "name": "ipython",
    "version": 3
   },
   "file_extension": ".py",
   "mimetype": "text/x-python",
   "name": "python",
   "nbconvert_exporter": "python",
   "pygments_lexer": "ipython3",
   "version": "3.6.5"
  }
 },
 "nbformat": 4,
 "nbformat_minor": 2
}
